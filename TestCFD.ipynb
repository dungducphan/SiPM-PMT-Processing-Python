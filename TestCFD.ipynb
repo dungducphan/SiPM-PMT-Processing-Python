{
 "cells": [
  {
   "cell_type": "code",
   "execution_count": 1,
   "metadata": {
    "collapsed": true
   },
   "outputs": [],
   "source": [
    "import numpy as np\n",
    "import matplotlib.pyplot as plt\n",
    "import SiPMWaveGen as swg\n",
    "import scipy.signal as scisig\n",
    "import CFDHitFinder as cfd"
   ]
  },
  {
   "cell_type": "code",
   "execution_count": 3,
   "metadata": {},
   "outputs": [],
   "source": [
    "timeSample = 0.2  # nanosec\n",
    "nSamples = 1024  # no. of sampling points in a trigger\n",
    "speAmplitude = 0.15  # single photon-electron response amplitude in volt\n",
    "noiseSigmaInVolt = speAmplitude / 15 # noise sigma\n",
    "riseTime = 1.5  # nanosec\n",
    "fallTime = 3  # nanosec\n",
    "nBits = 12  # 12bit ADC\n",
    "voltMin = -0.9  # minimum voltage ADC in volt\n",
    "dynamicRange = 1  # dynamic range of ADC\n",
    "offset = 2000  # offset ADC\n",
    "\n",
    "cfdThreshold = 0.2  # CFD threshold\n",
    "durationTheshold = 10  # hit finder alg param: duration of a detected peak to be considered a hit\n",
    "adjDurationThreshold = 10  # hit finder alg param: duration between two detected peaks to be considered a single hit\n",
    "nNoiseSigmaThreshold = 1.5  # adcThreshold = (noise threshold) * nNoiseSigmaThreshold + baseline\n",
    "sgFilter = True  # using Golay-Savitzky filter \n",
    "sgWindow = 15  # sg sliding window\n",
    "sgPolyOrder = 3  # sg smoothing polynomial order\n",
    "\n",
    "for i in range(10):\n",
    "    [t, p, true_p] = swg.aDigitizedTrigger(dt=timeSample,\n",
    "                                           nsamples=nSamples,\n",
    "                                           speAmplitude=speAmplitude,\n",
    "                                           noiseSigmaInVolt=noiseSigmaInVolt,\n",
    "                                           riseTime=riseTime,\n",
    "                                           fallTime=fallTime,\n",
    "                                           nBits=nBits,\n",
    "                                           voltMin=voltMin,\n",
    "                                           dynamicRange=dynamicRange,\n",
    "                                           offset=offset)\n",
    "\n",
    "    [hitList, hitLogic, baseline, noiseSigma] = cfd.HitFinder(p=p,\n",
    "                                                              noiseSigmaInVolt=speAmplitude/15,\n",
    "                                                              cfdThreshold=cfdThreshold,\n",
    "                                                              durationTheshold=durationTheshold,\n",
    "                                                              adjDurationThreshold=adjDurationThreshold,\n",
    "                                                              nNoiseSigmaThreshold=nNoiseSigmaThreshold,\n",
    "                                                              sgFilter=sgFilter,\n",
    "                                                              sgWindow=sgWindow,\n",
    "                                                              sgPolyOrder=sgPolyOrder)\n",
    "\n",
    "    filter_p = scisig.savgol_filter(x=p,\n",
    "                                    window_length=sgWindow,\n",
    "                                    polyorder=sgPolyOrder)\n",
    "    if np.size(hitList) > 0:\n",
    "        plt.plot(t, p, 'r')\n",
    "        for x in hitList:\n",
    "            if x < 1024 and x >= 0:\n",
    "                plt.axvline(x=(x * 0.2))\n",
    "        plt.show()\n"
   ]
  },
  {
   "cell_type": "code",
   "execution_count": null,
   "metadata": {},
   "outputs": [],
   "source": []
  }
 ],
 "metadata": {
  "kernelspec": {
   "display_name": "Python 2",
   "language": "python",
   "name": "python2"
  },
  "language_info": {
   "codemirror_mode": {
    "name": "ipython",
    "version": 2
   },
   "file_extension": ".py",
   "mimetype": "text/x-python",
   "name": "python",
   "nbconvert_exporter": "python",
   "pygments_lexer": "ipython2",
   "version": "2.7.6"
  }
 },
 "nbformat": 4,
 "nbformat_minor": 0
}
