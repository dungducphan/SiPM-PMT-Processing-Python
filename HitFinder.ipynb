{
 "cells": [
  {
   "cell_type": "code",
   "execution_count": 6,
   "metadata": {
    "collapsed": true
   },
   "outputs": [],
   "source": [
    "import numpy as np\n",
    "import matplotlib.pyplot as plt\n",
    "import SiPMWaveGen as swg\n",
    "import scipy.signal as scisig"
   ]
  },
  {
   "cell_type": "code",
   "execution_count": null,
   "metadata": {},
   "outputs": [],
   "source": [
    "for i in range(10):\n",
    "    [t, p, true_p] = swg.aDigitizedTrigger(0.2, 1024, 0.15, 1.5, 3, \\\n",
    "                                           nBits=12, \\\n",
    "                                           voltMin=-0.8, \\\n",
    "                                           dynamicRange=1, \\\n",
    "                                           offset=2000)\n",
    "    filter_p = scisig.savgol_filter(p, 27, 3)\n",
    "    deriv_p = scisig.savgol_filter(p, 27, 3, 1)\n",
    "    plt.plot(t, p, t, deriv_p, t, filter_p)\n",
    "    plt.show()\n"
   ]
  },
  {
   "cell_type": "code",
   "execution_count": null,
   "metadata": {},
   "outputs": [],
   "source": []
  }
 ],
 "metadata": {
  "kernelspec": {
   "display_name": "Python 2",
   "language": "python",
   "name": "python2"
  },
  "language_info": {
   "codemirror_mode": {
    "name": "ipython",
    "version": 2
   },
   "file_extension": ".py",
   "mimetype": "text/x-python",
   "name": "python",
   "nbconvert_exporter": "python",
   "pygments_lexer": "ipython2",
   "version": "2.7.6"
  }
 },
 "nbformat": 4,
 "nbformat_minor": 0
}
