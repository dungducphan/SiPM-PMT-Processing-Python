{
 "cells": [
  {
   "cell_type": "code",
   "execution_count": 1,
   "metadata": {
    "collapsed": true
   },
   "outputs": [],
   "source": [
    "import numpy as np\n",
    "import matplotlib.pyplot as plt\n",
    "import SiPMWaveGen as swg\n",
    "import scipy.signal as scisig"
   ]
  },
  {
   "cell_type": "code",
   "execution_count": 2,
   "metadata": {},
   "outputs": [],
   "source": [
    "def FindPedestal(p, m):\n",
    "    noOutlier = RejectOutliers(p, m=m)\n",
    "    return np.mean(noOutlier)"
   ]
  },
  {
   "cell_type": "code",
   "execution_count": 3,
   "metadata": {},
   "outputs": [],
   "source": [
    "def FindDigitizedPedestal(p, m, nBits, dynamicRange):\n",
    "    noOutlier = FindPedestal(p=p, m=m)\n",
    "    res = dynamicRange / (2 ** nBits - 1)\n",
    "    noiseInADC = swg.getRawADC(speAmplitude / 15, res)\n",
    "\n",
    "    return [np.mean(noOutlier), noiseInADC]\n"
   ]
  },
  {
   "cell_type": "code",
   "execution_count": 4,
   "metadata": {},
   "outputs": [],
   "source": [
    "def RejectOutliers(data, m=2.):\n",
    "    d = np.abs(data - np.median(data))\n",
    "    mdev = np.median(d)\n",
    "    s = d/mdev if mdev else 0.\n",
    "    return data[s<m]"
   ]
  },
  {
   "cell_type": "code",
   "execution_count": 5,
   "metadata": {},
   "outputs": [],
   "source": [
    "def WaveformDiscriminator(p,\n",
    "                          nNoiseSigmaThreshold=1,\n",
    "                          sgFilter=True,\n",
    "                          sgWindow=15,\n",
    "                          sgPolyOrder=3):\n",
    "    [baselineVal, noiseInADC] = FindDigitizedPedestal(p=p, m=3, nBits=12, dynamicRange=1)\n",
    "    if sgFilter:\n",
    "        filter_p = scisig.savgol_filter(x=p, window_length=sgWindow, polyorder=sgPolyOrder)\n",
    "        hitLogic = np.array([(True if pi < baselineVal - nNoiseSigmaThreshold * noiseInADC else False) for pi in filter_p])\n",
    "    else:\n",
    "        hitLogic = np.array([(True if pi < baselineVal - nNoiseSigmaThreshold * noiseInADC else False) for pi in p])\n",
    "    return hitLogic\n"
   ]
  },
  {
   "cell_type": "code",
   "execution_count": 14,
   "metadata": {},
   "outputs": [],
   "source": [
    "def DiscriminatorConditioning(p,\n",
    "                              durationTheshold=5,\n",
    "                              adjDurationThreshold=5,\n",
    "                              nNoiseSigmaThreshold=1,\n",
    "                              sgFilter=True,\n",
    "                              sgWindow=15,\n",
    "                              sgPolyOrder=3):\n",
    "    hitLogic = WaveformDiscriminator(p=p, \n",
    "                                     nNoiseSigmaThreshold=nNoiseSigmaThreshold, \n",
    "                                     sgFilter=sgFilter, \n",
    "                                     sgWindow=sgWindow, \n",
    "                                     sgPolyOrder=sgPolyOrder)\n",
    "    \n",
    "    for i in range(1, np.size(hitLogic)):\n",
    "        if ((not hitLogic[i-1]) and hitLogic[i]) and hitLogic[i]:\n",
    "            countDuration = 0\n",
    "            for j in range(i, np.size(hitLogic)-1):\n",
    "                if hitLogic[j]:\n",
    "                    countDuration = countDuration + 1\n",
    "                if not hitLogic[j+1]:\n",
    "                    break\n",
    "                    \n",
    "            if countDuration < durationTheshold:\n",
    "                for j in range(i, i + countDuration):\n",
    "                    hitLogic[j] = False\n",
    "                    \n",
    "    for i in range(1, np.size(hitLogic)):\n",
    "        if (hitLogic[i-1] and (not hitLogic[i])) and (not hitLogic[i]):\n",
    "            countDuration = 0\n",
    "            for j in range(i, np.size(hitLogic)-1):\n",
    "                if (not hitLogic[j]):\n",
    "                    countDuration = countDuration + 1\n",
    "                if hitLogic[j+1]:\n",
    "                    break\n",
    "                    \n",
    "            if countDuration < adjDurationThreshold:\n",
    "                for j in range(i, i + countDuration):\n",
    "                    hitLogic[j] = True\n",
    "    \n",
    "    return hitLogic\n",
    "        "
   ]
  },
  {
   "cell_type": "code",
   "execution_count": null,
   "metadata": {},
   "outputs": [],
   "source": [
    "def HitFinder(p,\n",
    "              cfdThreshold=0.2,\n",
    "              durationTheshold=5,\n",
    "              adjDurationThreshold=5,\n",
    "              nNoiseSigmaThreshold=1,\n",
    "              sgFilter=True,\n",
    "              sgWindow=15,\n",
    "              sgPolyOrder=3):\n",
    "    hitLogic = DiscriminatorConditioning(p=p,\n",
    "                         durationTheshold=durationTheshold,\n",
    "                         adjDurationThreshold=adjDurationThreshold,\n",
    "                         nNoiseSigmaThreshold=nNoiseSigmaThreshold,\n",
    "                         sgFilter=sgFilter,\n",
    "                         sgWindow=sgWindow,\n",
    "                         sgPolyOrder=sgPolyOrder)\n",
    "    deriv_p = scisig.savgol_filter(p, window_length=sgWindow, polyorder=sgPolyOrder, deriv=1)"
   ]
  },
  {
   "cell_type": "code",
   "execution_count": null,
   "metadata": {},
   "outputs": [],
   "source": [
    "def checkExtremaInWindow(deriv, hitLogic, startIndex):\n",
    "    countDuration = 0\n",
    "    for i in range(startIndex, np.size(deriv) - 1):\n",
    "        countDuration = countDuration + 1\n",
    "        if not hitLogic[i + 1]:\n",
    "            break\n",
    "    \n",
    "    extremaIndex = startIndex\n",
    "    for i in range(startIndex, startIndex + countDuration):\n",
    "        if ():\n",
    "            extremaIndex = i"
   ]
  },
  {
   "cell_type": "code",
   "execution_count": 15,
   "metadata": {},
   "outputs": [],
   "source": [
    "timeSample = 0.2 # nanosec\n",
    "nSamples = 1024 # no. of sampling points in a trigger\n",
    "speAmplitude = 0.15 # single photon-electron response amplitude in volt, noise sigma is 1/10 of the speAmplitude\n",
    "riseTime = 1.5 # nanosec\n",
    "fallTime = 3 # nanosec\n",
    "nBits = 12 # 12bit ADC\n",
    "voltMin = -0.9 # minimum voltage ADC in volt\n",
    "dynamicRange = 1 # dynamic range of ADC\n",
    "offset = 2000 # offset ADC\n",
    "for i in range(10):\n",
    "    [t, p, true_p] = swg.aDigitizedTrigger(dt=timeSample, \n",
    "                                           nsamples=nSamples, \n",
    "                                           speAmplitude=speAmplitude, \n",
    "                                           riseTime=riseTime, \n",
    "                                           fallTime=fallTime, \n",
    "                                           nBits=nBits, \n",
    "                                           voltMin=voltMin, \n",
    "                                           dynamicRange=dynamicRange, \n",
    "                                           offset=offset)\n",
    "    \n",
    "    durationTheshold=10\n",
    "    adjDurationThreshold=10\n",
    "    nNoiseSigmaThreshold=1\n",
    "    sgFilter=True\n",
    "    sgWindow=15\n",
    "    sgPolyOrder=3\n",
    "    hitLogic = DiscriminatorConditioning(p=p,\n",
    "                         durationTheshold=durationTheshold,\n",
    "                         adjDurationThreshold=adjDurationThreshold,\n",
    "                         nNoiseSigmaThreshold=nNoiseSigmaThreshold,\n",
    "                         sgFilter=sgFilter,\n",
    "                         sgWindow=sgWindow,\n",
    "                         sgPolyOrder=sgPolyOrder)\n",
    "    filter_p = scisig.savgol_filter(x=p, window_length=sgWindow, polyorder=sgPolyOrder)\n",
    "    \n",
    "    [baselineVal, noiseADC] = FindDigitizedPedestal(p=p, m=3, nBits=12, dynamicRange=1)\n",
    "    threshold = np.array([baselineVal - nNoiseSigmaThreshold*noiseADC for ti in t])\n",
    "    \n",
    "    plt.plot(t, p, t, filter_p, t, threshold)\n",
    "    plt.show()\n",
    "\n",
    "    plt.plot(t, hitLogic)\n",
    "    plt.show()"
   ]
  },
  {
   "cell_type": "code",
   "execution_count": 23,
   "metadata": {},
   "outputs": [
    {
     "ename": "IndexError",
     "evalue": "range object index out of range",
     "traceback": [
      "\u001b[0;31m---------------------------------------------------------------------------\u001b[0m",
      "\u001b[0;31mIndexError\u001b[0m                                Traceback (most recent call last)",
      "\u001b[0;32m<ipython-input-23-c2663ed6fc28>\u001b[0m in \u001b[0;36m<module>\u001b[0;34m\u001b[0m\n\u001b[1;32m      1\u001b[0m \u001b[0;34m\u001b[0m\u001b[0m\n\u001b[1;32m      2\u001b[0m \u001b[0ma\u001b[0m\u001b[0;34m=\u001b[0m\u001b[0mrange\u001b[0m\u001b[0;34m(\u001b[0m\u001b[0;36m0\u001b[0m\u001b[0;34m,\u001b[0m\u001b[0;36m5\u001b[0m\u001b[0;34m,\u001b[0m\u001b[0;36m1\u001b[0m\u001b[0;34m)\u001b[0m\u001b[0;34m\u001b[0m\u001b[0;34m\u001b[0m\u001b[0m\n\u001b[0;32m----> 3\u001b[0;31m \u001b[0ma\u001b[0m\u001b[0;34m[\u001b[0m\u001b[0;36m5\u001b[0m\u001b[0;34m]\u001b[0m\u001b[0;34m\u001b[0m\u001b[0;34m\u001b[0m\u001b[0m\n\u001b[0m",
      "\u001b[0;31mIndexError\u001b[0m: range object index out of range"
     ],
     "output_type": "error"
    }
   ],
   "source": [
    "\n",
    "a=range(0,5,1)\n",
    "a[5]"
   ]
  },
  {
   "cell_type": "code",
   "execution_count": null,
   "metadata": {},
   "outputs": [],
   "source": []
  }
 ],
 "metadata": {
  "kernelspec": {
   "display_name": "Python 2",
   "language": "python",
   "name": "python2"
  },
  "language_info": {
   "codemirror_mode": {
    "name": "ipython",
    "version": 2
   },
   "file_extension": ".py",
   "mimetype": "text/x-python",
   "name": "python",
   "nbconvert_exporter": "python",
   "pygments_lexer": "ipython2",
   "version": "2.7.6"
  }
 },
 "nbformat": 4,
 "nbformat_minor": 0
}
