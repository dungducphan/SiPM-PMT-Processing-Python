{
 "cells": [
  {
   "cell_type": "code",
   "execution_count": 1,
   "metadata": {
    "collapsed": true
   },
   "outputs": [],
   "source": [
    "import numpy as np\n",
    "import matplotlib.pyplot as plt\n",
    "from math import exp\n"
   ]
  },
  {
   "cell_type": "markdown",
   "metadata": {},
   "source": [
    "An instant hit response (can be SPE or multiple photons)"
   ]
  },
  {
   "cell_type": "code",
   "execution_count": 2,
   "metadata": {},
   "outputs": [],
   "source": [
    "def peResponse(t, delay, nphotons, speAmplitude, rise_time, fall_time):\n",
    "    if t < delay:\n",
    "        return 0\n",
    "    else:\n",
    "        return -nphotons * speAmplitude * exp(-(t-delay) / fall_time) * (1 - exp(-(t-delay) / rise_time))\n"
   ]
  },
  {
   "cell_type": "markdown",
   "metadata": {},
   "source": [
    "Generate waveform with multiple hits at random time"
   ]
  },
  {
   "cell_type": "code",
   "execution_count": 3,
   "metadata": {},
   "outputs": [],
   "source": [
    "def waveGen(t, speAmplitude, rise_time, fall_time):\n",
    "    response = np.array([0 for ti in t])\n",
    "    \n",
    "    while True:\n",
    "        nhits = 0\n",
    "        nhits = np.random.poisson(2)\n",
    "        if nhits > 0: \n",
    "            break\n",
    "    \n",
    "    while True:\n",
    "        checkSumHits = 0\n",
    "        for aHit in range(0, nhits):\n",
    "            delay = np.random.uniform(t[0], t[-1])\n",
    "            nphotons = np.random.poisson(3)\n",
    "            checkSumHits = checkSumHits + nphotons\n",
    "            tempResponse = np.array([(peResponse(ti, delay, nphotons, speAmplitude, rise_time, fall_time) \\\n",
    "                                      + np.random.normal(0, speAmplitude / 15)) for ti in t])\n",
    "            response = response + tempResponse\n",
    "        if checkSumHits > 0:\n",
    "            break\n",
    "            \n",
    "    return response"
   ]
  },
  {
   "cell_type": "markdown",
   "metadata": {},
   "source": [
    "Digitizing the waveform"
   ]
  },
  {
   "cell_type": "code",
   "execution_count": 4,
   "metadata": {},
   "outputs": [],
   "source": [
    "def getADC(pi, nBits, res, voltMin):\n",
    "    guessADC =  (pi - voltMin) / res\n",
    "    if guessADC < 0:\n",
    "        return 0\n",
    "    if guessADC > (2**nBits - 1):\n",
    "        return 2**nBits - 1\n",
    "    return guessADC"
   ]
  },
  {
   "cell_type": "code",
   "execution_count": 5,
   "metadata": {},
   "outputs": [],
   "source": [
    "def digitizeWave(p, nBits, voltMin, dynamicRange, offset):\n",
    "    resolution = dynamicRange / (2**nBits - 1)\n",
    "    return np.array([(getADC(pi, nBits=nBits, res=resolution, voltMin=voltMin) + offset) for pi in p]) "
   ]
  },
  {
   "cell_type": "markdown",
   "metadata": {},
   "source": [
    "A triggered waveform"
   ]
  },
  {
   "cell_type": "code",
   "execution_count": 6,
   "metadata": {},
   "outputs": [],
   "source": [
    "def aTrigger(nBits, voltMin, dynamicRange, offset):\n",
    "    t = np.arange(0, 204.8, 0.2)\n",
    "    p = waveGen(t, 0.14, 1, 3)\n",
    "    digital_p = digitizeWave(p, nBits=nBits, voltMin=voltMin, dynamicRange=dynamicRange, offset=offset)\n",
    "    \n",
    "    return [t, p]"
   ]
  },
  {
   "cell_type": "markdown",
   "metadata": {},
   "source": [
    "A test: generate a triggered signal from SiPM"
   ]
  },
  {
   "cell_type": "code",
   "execution_count": 14,
   "metadata": {},
   "outputs": [],
   "source": [
    "[t, p] = aTrigger(12, -0.1, 1, 1000)\n",
    "plt.plot(t, p)\n",
    "plt.show()"
   ]
  },
  {
   "cell_type": "code",
   "execution_count": null,
   "metadata": {},
   "outputs": [],
   "source": []
  }
 ],
 "metadata": {
  "kernelspec": {
   "display_name": "Python 2",
   "language": "python",
   "name": "python2"
  },
  "language_info": {
   "codemirror_mode": {
    "name": "ipython",
    "version": 2
   },
   "file_extension": ".py",
   "mimetype": "text/x-python",
   "name": "python",
   "nbconvert_exporter": "python",
   "pygments_lexer": "ipython2",
   "version": "2.7.6"
  }
 },
 "nbformat": 4,
 "nbformat_minor": 0
}
